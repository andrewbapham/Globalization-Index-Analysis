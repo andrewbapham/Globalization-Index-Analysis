{
 "cells": [
  {
   "cell_type": "code",
   "execution_count": null,
   "metadata": {},
   "outputs": [],
   "source": [
    "import pandas as pd\n",
    "import numpy as np\n",
    "import altair as alt\n",
    "\n",
    "df = pd.read_csv('penguins.csv')\n",
    "df.dropna(inplace=True)\n",
    "df.head()\n",
    "\n",
    "plot = alt.Chart(df).mark_circle().encode(\n",
    "    x=alt.X('flipper_length_mm:Q', scale=alt.Scale(zero=False)),\n",
    "    y=alt.Y('body_mass_g:Q', scale=alt.Scale(zero=False)),\n",
    "    tooltip=['species', 'flipper_length_mm', 'body_mass_g']\n",
    ").properties(\n",
    "    width=400,\n",
    "    height=300\n",
    ")\n",
    "\n",
    "plot"
   ]
  }
 ],
 "metadata": {
  "language_info": {
   "name": "python"
  }
 },
 "nbformat": 4,
 "nbformat_minor": 2
}
