{
 "cells": [
  {
   "cell_type": "code",
   "execution_count": 30,
   "metadata": {},
   "outputs": [],
   "source": [
    "import pandas as pd\n",
    "\n",
    "# Clean S&P500 (USA) data\n",
    "# https://ca.investing.com/indices/us-spx-500-historical-data \n",
    "sp = pd.read_csv('./Datasets/S&P500-USA.csv', thousands=\",\")\n",
    "\n",
    "pattern = r'\\d\\d\\d\\d-01-01'\n",
    "sp = sp[sp['Date'].str.contains(pattern)]\n",
    "sp = sp.reset_index(drop=True).iloc[::-1]\n",
    "\n",
    "sp['YoY Change'] = sp['Price'].pct_change()*100\n",
    "sp.drop(columns=['Vol.'], inplace=True)\n",
    "sp.dropna(inplace=True)\n",
    "\n",
    "sp.to_csv('./Datasets/S&P500-USA-Clean.csv')"
   ]
  },
  {
   "cell_type": "code",
   "execution_count": 81,
   "metadata": {},
   "outputs": [],
   "source": [
    "# Clean Macrotrends Datasets\n",
    "# These datasets provide us the value of the index on each business day between certain dates\n",
    "# We need to find the values on the first business day of each year, so we can calculate YoY change.\n",
    "\n",
    "def clean_macrotrend_df(df, name):\n",
    "    df['date'] = pd.to_datetime(df['date'])\n",
    "    df['year'] = df['date'].dt.year\n",
    "    df['month'] = df['date'].dt.month\n",
    "    df['day'] = df['date'].dt.day\n",
    "    df = df[df['month'] == 1]\n",
    "\n",
    "    # Code From: https://stackoverflow.com/questions/71002941/get-the-first-row-of-each-group-of-unique-values-in-another-column \n",
    "    df = df.groupby('year', as_index=False).first()\n",
    "\n",
    "    df['YoY Change'] = df['value'].pct_change()*100\n",
    "\n",
    "    df.dropna(inplace=True)\n",
    "    df.drop(columns=['month', 'day'], inplace=True)\n",
    "    df.reset_index(drop=True, inplace=True)\n",
    "    df.to_csv(f'./Datasets/{name}-Clean.csv')"
   ]
  },
  {
   "cell_type": "code",
   "execution_count": 82,
   "metadata": {},
   "outputs": [],
   "source": [
    "# Clean Macrotrends Datasets\n",
    "# Run function on all of our current MacroTrends Datasets\n",
    "# https://www.macrotrends.net/charts/stock-indexes\n",
    "bovespa = pd.read_csv('./Datasets/BOVESPA-BRA.csv')\n",
    "clean_macrotrend_df(bovespa, 'BOVESPA-BRA')\n",
    "\n",
    "cac = pd.read_csv('./Datasets/CAC40-FRA.csv')\n",
    "clean_macrotrend_df(cac, 'CAC40-FRA')\n",
    "\n",
    "dax = pd.read_csv('./Datasets/DAX30-DEU.csv')\n",
    "clean_macrotrend_df(dax, 'DAX30-DEU')\n",
    "\n",
    "hang_seng = pd.read_csv('./Datasets/HangSeng-HKG.csv')\n",
    "clean_macrotrend_df(hang_seng, 'HangSeng-HKG')\n",
    "\n",
    "nikkei = pd.read_csv('./Datasets/Nikkei225-JPN.csv')\n",
    "clean_macrotrend_df(nikkei, 'Nikkei225-JPN')\n",
    "\n",
    "shanghai = pd.read_csv('./Datasets/Shanghai-CHN.csv')\n",
    "clean_macrotrend_df(shanghai, 'Shanghai-CHN')\n"
   ]
  },
  {
   "cell_type": "code",
   "execution_count": 79,
   "metadata": {},
   "outputs": [],
   "source": [
    "\n",
    "\n",
    "\n",
    "\n"
   ]
  }
 ],
 "metadata": {
  "kernelspec": {
   "display_name": "dsl",
   "language": "python",
   "name": "python3"
  },
  "language_info": {
   "codemirror_mode": {
    "name": "ipython",
    "version": 3
   },
   "file_extension": ".py",
   "mimetype": "text/x-python",
   "name": "python",
   "nbconvert_exporter": "python",
   "pygments_lexer": "ipython3",
   "version": "3.9.18"
  }
 },
 "nbformat": 4,
 "nbformat_minor": 2
}
