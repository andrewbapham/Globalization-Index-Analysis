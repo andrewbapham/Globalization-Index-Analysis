{
 "cells": [
  {
   "cell_type": "code",
   "execution_count": 1,
   "metadata": {},
   "outputs": [],
   "source": [
    "import pandas as pd\n",
    "\n",
    "# Clean S&P500 (USA) data\n",
    "# https://ca.investing.com/indices/us-spx-500-historical-data \n",
    "sp = pd.read_csv('./Datasets/S&P500-USA.csv', thousands=\",\")\n",
    "\n",
    "pattern = r'\\d\\d\\d\\d-01-01'\n",
    "sp = sp[sp['Date'].str.contains(pattern)]\n",
    "sp = sp.reset_index(drop=True).iloc[::-1]\n",
    "\n",
    "sp['YoY Change'] = sp['Price'].pct_change()*100\n",
    "sp.drop(columns=['Vol.'], inplace=True)\n",
    "sp.dropna(inplace=True)\n",
    "\n",
    "sp.to_csv('./Datasets/S&P500-USA-Clean.csv')"
   ]
  },
  {
   "cell_type": "code",
   "execution_count": 8,
   "metadata": {},
   "outputs": [],
   "source": [
    "# Clean Macrotrends Datasets\n",
    "# These datasets provide us the value of the index on each business day between certain dates\n",
    "# We need to find the values on the first business day of each year, so we can calculate YoY change.\n",
    "\n",
    "def clean_macrotrend_df(df, name, country_code):\n",
    "    df['date'] = pd.to_datetime(df['date'])\n",
    "    df['year'] = df['date'].dt.year\n",
    "    df['month'] = df['date'].dt.month\n",
    "    df['day'] = df['date'].dt.day\n",
    "    df = df[df['month'] == 1]\n",
    "\n",
    "    # Get the first row representing the first business day of each year\n",
    "    # Code From: https://stackoverflow.com/questions/71002941/get-the-first-row-of-each-group-of-unique-values-in-another-column \n",
    "    df = df.groupby('year', as_index=False).first()\n",
    "\n",
    "    df['YoY Change'] = df['value'].pct_change()*100\n",
    "    # Shift YoY Change figures up by 1 row so that YoY Change over 1 year matches with that year for plotting later.\n",
    "    df['YoY Change'] = df['YoY Change'].shift(-1)\n",
    "\n",
    "    df.dropna(inplace=True)\n",
    "    df.drop(columns=['month', 'day', 'date', 'value'], inplace=True)\n",
    "    df.reset_index(drop=True, inplace=True)\n",
    "    df['code'] = country_code\n",
    "    # Remove first row since it might not be a full year depending on dataset\n",
    "    df = df.iloc[1:]\n",
    "\n",
    "    df.to_csv(f'./Datasets/{name}-Clean.csv', index=False)"
   ]
  },
  {
   "cell_type": "code",
   "execution_count": 9,
   "metadata": {},
   "outputs": [],
   "source": [
    "# Clean Macrotrends Datasets\n",
    "# Run function on all of our current MacroTrends Datasets\n",
    "# https://www.macrotrends.net/charts/stock-indexes\n",
    "bovespa = pd.read_csv('./Datasets/BOVESPA-BRA.csv')\n",
    "clean_macrotrend_df(bovespa, 'BOVESPA-BRA', 'BRA')\n",
    "\n",
    "cac = pd.read_csv('./Datasets/CAC40-FRA.csv')\n",
    "clean_macrotrend_df(cac, 'CAC40-FRA', 'FRA')\n",
    "\n",
    "dax = pd.read_csv('./Datasets/DAX30-DEU.csv')\n",
    "clean_macrotrend_df(dax, 'DAX30-DEU', 'DEU')\n",
    "\n",
    "hang_seng = pd.read_csv('./Datasets/HangSeng-HKG.csv')\n",
    "clean_macrotrend_df(hang_seng, 'HangSeng-HKG', 'HKG')\n",
    "\n",
    "nikkei = pd.read_csv('./Datasets/Nikkei225-JPN.csv')\n",
    "clean_macrotrend_df(nikkei, 'Nikkei225-JPN', 'JPN')\n",
    "\n",
    "shanghai = pd.read_csv('./Datasets/Shanghai-CHN.csv')\n",
    "clean_macrotrend_df(shanghai, 'Shanghai-CHN', 'CHN')\n"
   ]
  },
  {
   "cell_type": "code",
   "execution_count": 79,
   "metadata": {},
   "outputs": [],
   "source": [
    "\n",
    "\n",
    "\n",
    "\n"
   ]
  }
 ],
 "metadata": {
  "kernelspec": {
   "display_name": "dsl",
   "language": "python",
   "name": "python3"
  },
  "language_info": {
   "codemirror_mode": {
    "name": "ipython",
    "version": 3
   },
   "file_extension": ".py",
   "mimetype": "text/x-python",
   "name": "python",
   "nbconvert_exporter": "python",
   "pygments_lexer": "ipython3",
   "version": "3.9.18"
  }
 },
 "nbformat": 4,
 "nbformat_minor": 2
}
