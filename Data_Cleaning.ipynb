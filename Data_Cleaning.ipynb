{
 "cells": [
  {
   "cell_type": "code",
   "execution_count": 27,
   "metadata": {},
   "outputs": [
    {
     "data": {
      "text/html": [
       "<div>\n",
       "<style scoped>\n",
       "    .dataframe tbody tr th:only-of-type {\n",
       "        vertical-align: middle;\n",
       "    }\n",
       "\n",
       "    .dataframe tbody tr th {\n",
       "        vertical-align: top;\n",
       "    }\n",
       "\n",
       "    .dataframe thead th {\n",
       "        text-align: right;\n",
       "    }\n",
       "</style>\n",
       "<table border=\"1\" class=\"dataframe\">\n",
       "  <thead>\n",
       "    <tr style=\"text-align: right;\">\n",
       "      <th></th>\n",
       "      <th>Date</th>\n",
       "      <th>Price</th>\n",
       "      <th>Open</th>\n",
       "      <th>High</th>\n",
       "      <th>Low</th>\n",
       "      <th>Vol.</th>\n",
       "      <th>Change %</th>\n",
       "    </tr>\n",
       "  </thead>\n",
       "  <tbody>\n",
       "    <tr>\n",
       "      <th>0</th>\n",
       "      <td>2023-11-01</td>\n",
       "      <td>4538.88</td>\n",
       "      <td>4203.62</td>\n",
       "      <td>4557.17</td>\n",
       "      <td>4196.92</td>\n",
       "      <td>NaN</td>\n",
       "      <td>8.23%</td>\n",
       "    </tr>\n",
       "    <tr>\n",
       "      <th>1</th>\n",
       "      <td>2023-10-01</td>\n",
       "      <td>4193.80</td>\n",
       "      <td>4280.50</td>\n",
       "      <td>4393.73</td>\n",
       "      <td>4103.49</td>\n",
       "      <td>NaN</td>\n",
       "      <td>-2.20%</td>\n",
       "    </tr>\n",
       "    <tr>\n",
       "      <th>2</th>\n",
       "      <td>2023-09-01</td>\n",
       "      <td>4288.05</td>\n",
       "      <td>4534.42</td>\n",
       "      <td>4540.16</td>\n",
       "      <td>4238.53</td>\n",
       "      <td>NaN</td>\n",
       "      <td>-4.87%</td>\n",
       "    </tr>\n",
       "    <tr>\n",
       "      <th>3</th>\n",
       "      <td>2023-08-01</td>\n",
       "      <td>4507.66</td>\n",
       "      <td>4576.21</td>\n",
       "      <td>4584.24</td>\n",
       "      <td>4337.77</td>\n",
       "      <td>NaN</td>\n",
       "      <td>-1.77%</td>\n",
       "    </tr>\n",
       "    <tr>\n",
       "      <th>4</th>\n",
       "      <td>2023-07-01</td>\n",
       "      <td>4588.96</td>\n",
       "      <td>4444.17</td>\n",
       "      <td>4606.00</td>\n",
       "      <td>4385.18</td>\n",
       "      <td>NaN</td>\n",
       "      <td>3.11%</td>\n",
       "    </tr>\n",
       "  </tbody>\n",
       "</table>\n",
       "</div>"
      ],
      "text/plain": [
       "         Date    Price     Open     High      Low  Vol. Change %\n",
       "0  2023-11-01  4538.88  4203.62  4557.17  4196.92   NaN    8.23%\n",
       "1  2023-10-01  4193.80  4280.50  4393.73  4103.49   NaN   -2.20%\n",
       "2  2023-09-01  4288.05  4534.42  4540.16  4238.53   NaN   -4.87%\n",
       "3  2023-08-01  4507.66  4576.21  4584.24  4337.77   NaN   -1.77%\n",
       "4  2023-07-01  4588.96  4444.17  4606.00  4385.18   NaN    3.11%"
      ]
     },
     "execution_count": 27,
     "metadata": {},
     "output_type": "execute_result"
    }
   ],
   "source": [
    "import pandas as pd\n",
    "\n",
    "# https://ca.investing.com/indices/us-spx-500-historical-data \n",
    "df = pd.read_csv('./Datasets/S&P500-USA.csv', thousands=\",\")\n",
    "\n",
    "pattern = r'\\d\\d\\d\\d-01-01'\n",
    "df = df[df['Date'].str.contains(pattern)]\n",
    "df = df.reset_index(drop=True).iloc[::-1]\n",
    "\n",
    "df['YoY Change'] = df['Price'].pct_change()*100\n",
    "df.drop(columns=['Vol.'], inplace=True)\n",
    "df.dropna(inplace=True)\n",
    "\n",
    "df.to_csv('./Datasets/S&P500-USA-Clean.csv')"
   ]
  },
  {
   "cell_type": "code",
   "execution_count": 26,
   "metadata": {},
   "outputs": [
    {
     "ename": "AttributeError",
     "evalue": "module 'pandas' has no attribute 'to_csv'",
     "output_type": "error",
     "traceback": [
      "\u001b[0;31m---------------------------------------------------------------------------\u001b[0m",
      "\u001b[0;31mAttributeError\u001b[0m                            Traceback (most recent call last)",
      "\u001b[1;32m/Users/andrew/Documents/uOttawa-Coursework/uOttawa_Fall2023/SDS3386/Project/Globalization-Index-Analysis/Data_Cleaning.ipynb Cell 2\u001b[0m line \u001b[0;36m8\n\u001b[1;32m      <a href='vscode-notebook-cell:/Users/andrew/Documents/uOttawa-Coursework/uOttawa_Fall2023/SDS3386/Project/Globalization-Index-Analysis/Data_Cleaning.ipynb#W1sZmlsZQ%3D%3D?line=5'>6</a>\u001b[0m df\u001b[39m.\u001b[39mdrop(columns\u001b[39m=\u001b[39m[\u001b[39m'\u001b[39m\u001b[39mVol.\u001b[39m\u001b[39m'\u001b[39m], inplace\u001b[39m=\u001b[39m\u001b[39mTrue\u001b[39;00m)\n\u001b[1;32m      <a href='vscode-notebook-cell:/Users/andrew/Documents/uOttawa-Coursework/uOttawa_Fall2023/SDS3386/Project/Globalization-Index-Analysis/Data_Cleaning.ipynb#W1sZmlsZQ%3D%3D?line=6'>7</a>\u001b[0m df\u001b[39m.\u001b[39mdropna(inplace\u001b[39m=\u001b[39m\u001b[39mTrue\u001b[39;00m)\n\u001b[0;32m----> <a href='vscode-notebook-cell:/Users/andrew/Documents/uOttawa-Coursework/uOttawa_Fall2023/SDS3386/Project/Globalization-Index-Analysis/Data_Cleaning.ipynb#W1sZmlsZQ%3D%3D?line=7'>8</a>\u001b[0m pd\u001b[39m.\u001b[39;49mto_csv(\u001b[39m'\u001b[39m\u001b[39m./Datasets/S&P500-USA-Clean.csv\u001b[39m\u001b[39m'\u001b[39m)\n",
      "\u001b[0;31mAttributeError\u001b[0m: module 'pandas' has no attribute 'to_csv'"
     ]
    }
   ],
   "source": [
    "\n"
   ]
  },
  {
   "cell_type": "code",
   "execution_count": null,
   "metadata": {},
   "outputs": [],
   "source": []
  }
 ],
 "metadata": {
  "kernelspec": {
   "display_name": "dsl",
   "language": "python",
   "name": "python3"
  },
  "language_info": {
   "codemirror_mode": {
    "name": "ipython",
    "version": 3
   },
   "file_extension": ".py",
   "mimetype": "text/x-python",
   "name": "python",
   "nbconvert_exporter": "python",
   "pygments_lexer": "ipython3",
   "version": "3.9.18"
  }
 },
 "nbformat": 4,
 "nbformat_minor": 2
}
