{
 "cells": [
  {
   "cell_type": "code",
   "execution_count": 28,
   "metadata": {},
   "outputs": [],
   "source": [
    "import pandas as pd\n",
    "\n",
    "# https://ca.investing.com/indices/us-spx-500-historical-data \n",
    "df = pd.read_csv('./Datasets/S&P500-USA.csv', thousands=\",\")\n",
    "\n",
    "pattern = r'\\d\\d\\d\\d-01-01'\n",
    "df = df[df['Date'].str.contains(pattern)]\n",
    "df = df.reset_index(drop=True).iloc[::-1]\n",
    "\n",
    "df['YoY Change'] = df['Price'].pct_change()*100\n",
    "df.drop(columns=['Vol.'], inplace=True)\n",
    "df.dropna(inplace=True)\n",
    "\n",
    "df.to_csv('./Datasets/S&P500-USA-Clean.csv')"
   ]
  },
  {
   "cell_type": "code",
   "execution_count": null,
   "metadata": {},
   "outputs": [],
   "source": []
  }
 ],
 "metadata": {
  "kernelspec": {
   "display_name": "dsl",
   "language": "python",
   "name": "python3"
  },
  "language_info": {
   "codemirror_mode": {
    "name": "ipython",
    "version": 3
   },
   "file_extension": ".py",
   "mimetype": "text/x-python",
   "name": "python",
   "nbconvert_exporter": "python",
   "pygments_lexer": "ipython3",
   "version": "3.9.18"
  }
 },
 "nbformat": 4,
 "nbformat_minor": 2
}
